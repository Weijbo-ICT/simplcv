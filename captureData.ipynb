{
 "metadata": {
  "name": "",
  "signature": "sha256:af1935434c223b0c8b65a1365036a5bcaa864db4420bf9ae3665dd2e29f62bb7"
 },
 "nbformat": 3,
 "nbformat_minor": 0,
 "worksheets": [
  {
   "cells": [
    {
     "cell_type": "code",
     "collapsed": false,
     "input": [
      "'''DIT IS EEN PROGRAMMA VOOR HET VERZAMELEN VAN DATA.\n",
      "Er zijn een aantal dingen waar rekening mee moet worden gehouden.\n",
      "De 'threshold'kan worden gebruikt om meer beweging vast te stellen.\n",
      "Verder is een nog een optie om een webstream te starten.\n",
      "Hiervoor moeten de streamlines ge-uncomment worden.\n",
      "'''\n",
      "\n",
      "# !/usr/bin/python\n",
      "\n",
      "# Importeerd SimpleCV\n",
      "from SimpleCV import *\n",
      "\n",
      "\n",
      "# Initializeerd de camera\n",
      "cam = JpegStreamCamera('http://192.168.1.182:8081')\n",
      "# Zet een maximale display resolutie.\n",
      "display = Display((800, 600))\n",
      "\n",
      "# Bewegingsgevoeligheid. Lager = meer foto's\n",
      "threshold = 5.0\n",
      "Slaap = 0.8\n",
      "\n",
      "# Mocht je willen streamen naar een webstream deze uncommenten.\n",
      "#streaming = SimpleCV.JpegStreamer(\"0.0.0.0:1212\")\n",
      "\n",
      "# create a loop that constantly grabs new images from the webcam\n",
      "while True:\n",
      "    # set a time variable that updates with the loop\n",
      "    current_time = time.time()\n",
      "    # grab an image still from the camera and convert it to grayscale\n",
      "    img01 = cam.getImage()#.toGray()\n",
      "    # wait half a second\n",
      "    time.sleep(0.5)\n",
      "    # grab another image still from the camera and conver it to grayscale\n",
      "    img02 = cam.getImage()#.toGray()\n",
      "    # subract the images from each other, binarize and inver the colors\n",
      "    diff = (img01 - img02).binarize(50).invert()\n",
      "    # show the results to the screen\n",
      "    diff.show()\n",
      "\n",
      "    # dump all the values into a Numpy matrix and extract the mean avg\n",
      "    matrix = diff.getNumpy()\n",
      "    mean = matrix.mean()\n",
      "\n",
      "    # if the mean is greater than our threshold variable, then save the img\n",
      "    if mean >= threshold:\n",
      "        time.sleep(Slaap)\n",
      "        # initialize the counter variable\n",
      "        i = 0\n",
      "        # check to see if the filename  already exists\n",
      "        while os.path.exists('image%s.png' % i):\n",
      "            # if it does, add one to the filename  and try again\n",
      "            i += 1\n",
      "        # once a unique filename has been found, save the image\n",
      "        img02.save('image%s.png' % i)\n",
      "        # print results to terminal\n",
      "        print('Image Saved')\n",
      "        # check to see if the wait time has been passed\n",
      "\n",
      "    # Voor de stream ook onderste dehashed.\n",
      "    #img01.save(streaming)"
     ],
     "language": "python",
     "metadata": {},
     "outputs": [
      
      {
       "output_type": "stream",
       "stream": "stdout",
       "text": [
        "\n"
       ]
      }
      
     ],
     "prompt_number": 5
    },
    {
     "cell_type": "code",
     "collapsed": false,
     "input": [],
     "language": "python",
     "metadata": {},
     "outputs": []
    }
   ],
   "metadata": {}
  }
 ]
}
